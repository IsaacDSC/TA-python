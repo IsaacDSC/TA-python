{
 "cells": [
  {
   "cell_type": "code",
   "execution_count": 31,
   "metadata": {},
   "outputs": [
    {
     "name": "stdout",
     "output_type": "stream",
     "text": [
      "Total Produtos: 293\n",
      "<bound method NDFrame.head of          codigo       marca        tipo  categoria  preco_unitario  custo  \\\n",
      "0    MOLO000251    Logitech       Mouse          1           25.95    6.5   \n",
      "1    MOLO000192    Logitech       Mouse          2           19.95    5.0   \n",
      "2    CAHA000251     Hashtag      Camisa          1           25.00   11.0   \n",
      "3    CAHA000252     Hashtag      Camisa          2           25.00   11.0   \n",
      "4    MOMU000111  Multilaser       Mouse          1           11.99    3.4   \n",
      "..          ...         ...         ...        ...             ...    ...   \n",
      "288  ACAP000192       Apple  Acessorios          2           19.00    3.8   \n",
      "289  ACSA0009.3     Samsung  Acessorios          3            9.55    2.1   \n",
      "290  CEMO000271    Motorola     Celular          1          279.00   72.5   \n",
      "291  FOMO000152    Motorola        Fone          2          150.00   33.0   \n",
      "292  CEMO000223    Motorola     Celular          3          229.00   55.0   \n",
      "\n",
      "                  obs  \n",
      "0                 NaN  \n",
      "1                 NaN  \n",
      "2                 NaN  \n",
      "3    Conferir estoque  \n",
      "4                 NaN  \n",
      "..                ...  \n",
      "288               NaN  \n",
      "289               NaN  \n",
      "290               NaN  \n",
      "291               NaN  \n",
      "292               NaN  \n",
      "\n",
      "[293 rows x 7 columns]>\n"
     ]
    }
   ],
   "source": [
    "## email= pythonimpressionado@gmail.com\n",
    "## pass= 123\n",
    "\n",
    "import pandas as pd\n",
    "\n",
    "# DEFININO COLUNAS -> EXISTE OUTRA FORMA MAS QUIS FAZER ASSIM!\n",
    "columns = dict(code=\"codigo\", brand=\"marca\", type=\"tipo\", category=\"categoria\", price=\"preco_unitario\", cost=\"custo\", obs=\"obs\")\n",
    "\n",
    "# LENDO COM PANDAS CSV DE PRODUTOS\n",
    "df = pd.read_csv('produtos.csv')\n",
    "\n",
    "\n",
    "print(f\"Total Produtos: {len(df)}\" )\n",
    "print(df.head)\n"
   ]
  },
  {
   "cell_type": "code",
   "execution_count": 10,
   "metadata": {},
   "outputs": [],
   "source": [
    "# LER DADOS LINHA A LINHA\n",
    "# range_df = range(len(df))\n",
    "# for indexRow in range_df:\n",
    "#     print(df[columns[\"code\"]][indexRow])\n",
    "# print(df.to_string()) "
   ]
  },
  {
   "cell_type": "code",
   "execution_count": 25,
   "metadata": {},
   "outputs": [],
   "source": [
    "# ADICIONANDO COLUNA PARA CALCULAR O LUCRO => (preco_unitario - custo)\n",
    "\n",
    "def diff(a, b):\n",
    "    return (b - a)*-1\n",
    "\n",
    "\n",
    "df['profit'] = df.apply(\n",
    "    lambda row: diff(row[columns[\"price\"]], row[columns[\"cost\"]]), axis=1)\n",
    "\n"
   ]
  },
  {
   "cell_type": "code",
   "execution_count": 28,
   "metadata": {},
   "outputs": [
    {
     "name": "stdout",
     "output_type": "stream",
     "text": [
      "marca\n",
      "AOC            2\n",
      "Acer           7\n",
      "Apple         61\n",
      "Asus           5\n",
      "Canon          4\n",
      "Compaq         1\n",
      "Dell          14\n",
      "Garmin         4\n",
      "HP            11\n",
      "Hashtag       35\n",
      "Insignia       3\n",
      "LG            13\n",
      "Lenovo        10\n",
      "Logitech       6\n",
      "Microsoft      5\n",
      "Motorola      12\n",
      "Multilaser     6\n",
      "Nikon          5\n",
      "Philco         2\n",
      "Positivo       2\n",
      "Razer          4\n",
      "SEMP           3\n",
      "Samsung       40\n",
      "Sony          10\n",
      "Spectre        3\n",
      "TCL            3\n",
      "Toshiba        3\n",
      "Vaio           1\n",
      "Vizio          3\n",
      "Xiaomi        15\n",
      "dtype: int64\n"
     ]
    }
   ],
   "source": [
    "## Filtro para contar marcars repetidas\n",
    "dups = df.pivot_table(index = [columns[\"brand\"]], aggfunc ='size')\n",
    "print(dups)\n"
   ]
  },
  {
   "cell_type": "code",
   "execution_count": 71,
   "metadata": {},
   "outputs": [],
   "source": [
    "## Inserir dados no banco de dados relacional(SQL)\n",
    "exec_query_sql='INSERT INTO product (\"product_id\", \"brand\", \"type\", \"category\", \"price\", \"cost\", \"description\") VALUES \\n'\n",
    "range_df = range(len(df))\n",
    "counter=0\n",
    "\n",
    "for indexRow in range_df:\n",
    "    code =     df[columns[\"code\"]]\n",
    "    brand =    df[columns[\"brand\"]]\n",
    "    category = df[columns[\"category\"]]\n",
    "    price =    df[columns[\"price\"]]\n",
    "    cost =     df[columns[\"cost\"]]\n",
    "    obs =      str(df[columns[\"obs\"]]) \n",
    "    if counter != len(df)-1:\n",
    "        exec_query_sql+=\"({},{},{},{},{},{}), \\n\".format(\n",
    "            code[indexRow],\n",
    "            brand[indexRow],\n",
    "            category[indexRow],\n",
    "            float(price[indexRow]),\n",
    "            float(cost[indexRow]),\n",
    "            obs[indexRow] if obs[indexRow] == \"nan\" else \"NULL\"\n",
    "        )\n",
    "    else:\n",
    "        exec_query_sql+=\"({},{},{},{},{},{});\".format(\n",
    "            code[indexRow],\n",
    "            brand[indexRow],\n",
    "            category[indexRow],\n",
    "            float(price[indexRow]),\n",
    "            float(cost[indexRow]),\n",
    "            obs[indexRow] if obs[indexRow] == \"nan\" else \"NULL\"\n",
    "        )\n",
    "      \n",
    "    counter=counter+1\n",
    "\n",
    "\n",
    "bulk_insert_sql_file = open('bulk_insert_product.sql','w')\n",
    "bulk_insert_sql_file.write(exec_query_sql)\n",
    "bulk_insert_sql_file.close()"
   ]
  }
 ],
 "metadata": {
  "kernelspec": {
   "display_name": "Python 3",
   "language": "python",
   "name": "python3"
  },
  "language_info": {
   "codemirror_mode": {
    "name": "ipython",
    "version": 3
   },
   "file_extension": ".py",
   "mimetype": "text/x-python",
   "name": "python",
   "nbconvert_exporter": "python",
   "pygments_lexer": "ipython3",
   "version": "3.11.5"
  },
  "orig_nbformat": 4
 },
 "nbformat": 4,
 "nbformat_minor": 2
}
